{
 "cells": [
  {
   "cell_type": "markdown",
   "metadata": {},
   "source": [
    "# Sparkify Project Workspace\n",
    "This workspace contains a tiny subset (128MB) of the full dataset available (12GB). Feel free to use this workspace to build your project, or to explore a smaller subset with Spark before deploying your cluster on the cloud. Instructions for setting up your Spark cluster is included in the last lesson of the Extracurricular Spark Course content.\n",
    "\n",
    "You can follow the steps below to guide your data analysis and model building portion of this project."
   ]
  },
  {
   "cell_type": "code",
   "execution_count": 1,
   "metadata": {},
   "outputs": [],
   "source": [
    "# import libraries\n",
    "import pyspark\n",
    "from pyspark.sql import SparkSession\n",
    "from pyspark.sql.functions import udf\n",
    "from pyspark.sql.types import StringType\n",
    "from pyspark.sql.types import IntegerType\n",
    "from pyspark.sql.functions import when,count,isnan, desc,asc,col\n",
    "from pyspark.sql.functions import sum as Fsum\n",
    "from pyspark.sql import Window\n",
    "import datetime\n",
    "\n",
    "import numpy as np\n",
    "import pandas as pd\n",
    "import seaborn as sns\n",
    "%matplotlib inline\n",
    "import matplotlib.pyplot as plt"
   ]
  },
  {
   "cell_type": "code",
   "execution_count": 2,
   "metadata": {},
   "outputs": [],
   "source": [
    "#ml imports \n",
    "from pyspark.ml.classification import LogisticRegression, GBTClassifier,LinearSVC, RandomForestClassifier\n",
    "from pyspark.ml.evaluation import MulticlassClassificationEvaluator\n",
    "from pyspark.ml.feature import StandardScaler, VectorAssembler , Normalizer\n",
    "from pyspark.ml.tuning import CrossValidator, ParamGridBuilder\n",
    "\n",
    "\n",
    "from pyspark.ml import Pipeline\n",
    "from pyspark.ml.feature import IndexToString, StringIndexer, VectorIndexer\n"
   ]
  },
  {
   "cell_type": "code",
   "execution_count": 3,
   "metadata": {},
   "outputs": [],
   "source": [
    "# create a Spark session\n",
    "spark = SparkSession.builder.appName(\"Sparkify\").getOrCreate()"
   ]
  },
  {
   "cell_type": "code",
   "execution_count": 4,
   "metadata": {},
   "outputs": [
    {
     "data": {
      "text/plain": [
       "[('spark.app.id', 'local-1591793898630'),\n",
       " ('spark.rdd.compress', 'True'),\n",
       " ('spark.app.name', 'Sparkify'),\n",
       " ('spark.serializer.objectStreamReset', '100'),\n",
       " ('spark.driver.port', '38245'),\n",
       " ('spark.master', 'local[*]'),\n",
       " ('spark.executor.id', 'driver'),\n",
       " ('spark.submit.deployMode', 'client'),\n",
       " ('spark.driver.host', 'fa90e766553c'),\n",
       " ('spark.ui.showConsoleProgress', 'true')]"
      ]
     },
     "execution_count": 4,
     "metadata": {},
     "output_type": "execute_result"
    }
   ],
   "source": [
    "spark.sparkContext.getConf().getAll()\n",
    "\n"
   ]
  },
  {
   "cell_type": "markdown",
   "metadata": {},
   "source": [
    "# Load and Clean Dataset\n",
    "In this workspace, the mini-dataset file is `mini_sparkify_event_data.json`. Load and clean the dataset, checking for invalid or missing data - for example, records without userids or sessionids. "
   ]
  },
  {
   "cell_type": "markdown",
   "metadata": {},
   "source": [
    "## check for nans , duplicates and formating ts\n",
    "- will get the count of nans,nulls and \" \" \n",
    "- it makes sense for user IDS to be duplicated so that i will leave\n",
    "- ts is in seconds so i want to check for the hours listened"
   ]
  },
  {
   "cell_type": "code",
   "execution_count": 5,
   "metadata": {},
   "outputs": [
    {
     "name": "stdout",
     "output_type": "stream",
     "text": [
      "root\n",
      " |-- artist: string (nullable = true)\n",
      " |-- auth: string (nullable = true)\n",
      " |-- firstName: string (nullable = true)\n",
      " |-- gender: string (nullable = true)\n",
      " |-- itemInSession: long (nullable = true)\n",
      " |-- lastName: string (nullable = true)\n",
      " |-- length: double (nullable = true)\n",
      " |-- level: string (nullable = true)\n",
      " |-- location: string (nullable = true)\n",
      " |-- method: string (nullable = true)\n",
      " |-- page: string (nullable = true)\n",
      " |-- registration: long (nullable = true)\n",
      " |-- sessionId: long (nullable = true)\n",
      " |-- song: string (nullable = true)\n",
      " |-- status: long (nullable = true)\n",
      " |-- ts: long (nullable = true)\n",
      " |-- userAgent: string (nullable = true)\n",
      " |-- userId: string (nullable = true)\n",
      "\n"
     ]
    }
   ],
   "source": [
    "path = 'mini_sparkify_event_data.json'\n",
    "df = spark.read.json(path)\n",
    "df_pandas = df.toPandas()\n",
    "df.printSchema()"
   ]
  },
  {
   "cell_type": "code",
   "execution_count": 6,
   "metadata": {},
   "outputs": [
    {
     "name": "stdout",
     "output_type": "stream",
     "text": [
      "-RECORD 0--------------\n",
      " artist        | 58392 \n",
      " auth          | 0     \n",
      " firstName     | 8346  \n",
      " gender        | 8346  \n",
      " itemInSession | 0     \n",
      " lastName      | 8346  \n",
      " length        | 58392 \n",
      " level         | 0     \n",
      " location      | 8346  \n",
      " method        | 0     \n",
      " page          | 0     \n",
      " registration  | 8346  \n",
      " sessionId     | 0     \n",
      " song          | 58392 \n",
      " status        | 0     \n",
      " ts            | 0     \n",
      " userAgent     | 8346  \n",
      " userId        | 0     \n",
      "\n"
     ]
    }
   ],
   "source": [
    "#detecting null values\n",
    "df.select([count(when(isnan(c) \n",
    "               | col(c).isNull(), c)).alias(c)\n",
    "                for c in df.columns]) \\\n",
    "                .show(1,truncate = False,vertical = True)  \n"
   ]
  },
  {
   "cell_type": "code",
   "execution_count": 7,
   "metadata": {},
   "outputs": [
    {
     "name": "stdout",
     "output_type": "stream",
     "text": [
      "-RECORD 0---------------------------------------------------------------------------------\n",
      " artist        | Martha Tilston                                                           \n",
      " auth          | Logged In                                                                \n",
      " firstName     | Colin                                                                    \n",
      " gender        | M                                                                        \n",
      " itemInSession | 50                                                                       \n",
      " lastName      | Freeman                                                                  \n",
      " length        | 277.89016                                                                \n",
      " level         | paid                                                                     \n",
      " location      | Bakersfield, CA                                                          \n",
      " method        | PUT                                                                      \n",
      " page          | NextSong                                                                 \n",
      " registration  | 1538173362000                                                            \n",
      " sessionId     | 29                                                                       \n",
      " song          | Rockpools                                                                \n",
      " status        | 200                                                                      \n",
      " ts            | 1538352117000                                                            \n",
      " userAgent     | Mozilla/5.0 (Windows NT 6.1; WOW64; rv:31.0) Gecko/20100101 Firefox/31.0 \n",
      " userId        | 30                                                                       \n",
      "only showing top 1 row\n",
      "\n"
     ]
    }
   ],
   "source": [
    "df.show(1, truncate = False, vertical = True)"
   ]
  },
  {
   "cell_type": "code",
   "execution_count": 8,
   "metadata": {},
   "outputs": [],
   "source": [
    "get_hour = udf(lambda x: datetime.datetime.fromtimestamp(x / 1000.0). hour)\n"
   ]
  },
  {
   "cell_type": "code",
   "execution_count": 9,
   "metadata": {},
   "outputs": [],
   "source": [
    "df = df.withColumn(\"hour\", get_hour(df.ts))\n"
   ]
  },
  {
   "cell_type": "code",
   "execution_count": 10,
   "metadata": {},
   "outputs": [
    {
     "data": {
      "text/plain": [
       "Row(artist='Martha Tilston', auth='Logged In', firstName='Colin', gender='M', itemInSession=50, lastName='Freeman', length=277.89016, level='paid', location='Bakersfield, CA', method='PUT', page='NextSong', registration=1538173362000, sessionId=29, song='Rockpools', status=200, ts=1538352117000, userAgent='Mozilla/5.0 (Windows NT 6.1; WOW64; rv:31.0) Gecko/20100101 Firefox/31.0', userId='30', hour='0')"
      ]
     },
     "execution_count": 10,
     "metadata": {},
     "output_type": "execute_result"
    }
   ],
   "source": [
    "df.head()"
   ]
  },
  {
   "cell_type": "code",
   "execution_count": null,
   "metadata": {},
   "outputs": [],
   "source": []
  },
  {
   "cell_type": "code",
   "execution_count": 11,
   "metadata": {},
   "outputs": [
    {
     "data": {
      "text/plain": [
       "(8346, 0)"
      ]
     },
     "execution_count": 11,
     "metadata": {},
     "output_type": "execute_result"
    }
   ],
   "source": [
    "#df.select([\"userId\"]).where(df.userId == \"\").count()\n",
    "df.filter(df['userId'] == \"\").count(),df.filter(df['sessionId'] == \"\").count()"
   ]
  },
  {
   "cell_type": "markdown",
   "metadata": {},
   "source": [
    "- at first glance it seems like there are no empty userIDs but there are actually blank spaces these will be useless in detecting churn rates so i will just drop them"
   ]
  },
  {
   "cell_type": "code",
   "execution_count": 12,
   "metadata": {},
   "outputs": [],
   "source": [
    "df = df.dropna(how = 'any',subset = ['userId','sessionId'])"
   ]
  },
  {
   "cell_type": "code",
   "execution_count": null,
   "metadata": {},
   "outputs": [],
   "source": []
  },
  {
   "cell_type": "markdown",
   "metadata": {},
   "source": [
    "# Exploratory Data Analysis\n",
    "When you're working with the full dataset, perform EDA by loading a small subset of the data and doing basic manipulations within Spark. In this workspace, you are already provided a small subset of data you can explore.\n",
    "\n",
    "### Define Churn\n",
    "\n",
    "Once you've done some preliminary analysis, create a column `Churn` to use as the label for your model. I suggest using the `Cancellation Confirmation` events to define your churn, which happen for both paid and free users. As a bonus task, you can also look into the `Downgrade` events.\n",
    "\n",
    "### Explore Data\n",
    "Once you've defined churn, perform some exploratory data analysis to observe the behavior for users who stayed vs users who churned. You can start by exploring aggregates on these two groups of users, observing how much of a specific action they experienced per a certain time unit or number of songs played."
   ]
  },
  {
   "cell_type": "code",
   "execution_count": 13,
   "metadata": {
    "scrolled": true
   },
   "outputs": [
    {
     "name": "stdout",
     "output_type": "stream",
     "text": [
      "+-------------------------+\n",
      "|page                     |\n",
      "+-------------------------+\n",
      "|About                    |\n",
      "|Add Friend               |\n",
      "|Add to Playlist          |\n",
      "|Cancel                   |\n",
      "|Cancellation Confirmation|\n",
      "|Downgrade                |\n",
      "|Error                    |\n",
      "|Help                     |\n",
      "|Home                     |\n",
      "|Login                    |\n",
      "|Logout                   |\n",
      "|NextSong                 |\n",
      "|Register                 |\n",
      "|Roll Advert              |\n",
      "|Save Settings            |\n",
      "|Settings                 |\n",
      "|Submit Downgrade         |\n",
      "|Submit Registration      |\n",
      "|Submit Upgrade           |\n",
      "|Thumbs Down              |\n",
      "+-------------------------+\n",
      "only showing top 20 rows\n",
      "\n"
     ]
    }
   ],
   "source": [
    "df.select(\"page\").dropDuplicates().sort(\"page\").show(truncate = False)"
   ]
  },
  {
   "cell_type": "code",
   "execution_count": null,
   "metadata": {},
   "outputs": [],
   "source": []
  },
  {
   "cell_type": "code",
   "execution_count": 14,
   "metadata": {},
   "outputs": [
    {
     "data": {
      "text/plain": [
       "52"
      ]
     },
     "execution_count": 14,
     "metadata": {},
     "output_type": "execute_result"
    }
   ],
   "source": [
    "#might seem alot less than the number of users we have in the dataset\n",
    "#however the users who havent churned are duplicated \n",
    "df.filter(df['page'] == 'Cancellation Confirmation').count()"
   ]
  },
  {
   "cell_type": "code",
   "execution_count": 15,
   "metadata": {},
   "outputs": [
    {
     "name": "stdout",
     "output_type": "stream",
     "text": [
      "+------+-----+\n",
      "|userId|count|\n",
      "+------+-----+\n",
      "|100010|  381|\n",
      "|200002|  474|\n",
      "|   125|   11|\n",
      "|    51| 2464|\n",
      "|   124| 4825|\n",
      "|     7|  201|\n",
      "|    54| 3437|\n",
      "|    15| 2278|\n",
      "|   155| 1002|\n",
      "|   132| 2304|\n",
      "|   154|  118|\n",
      "|100014|  310|\n",
      "|   101| 2149|\n",
      "|    11|  848|\n",
      "|   138| 2469|\n",
      "|300017| 4428|\n",
      "|    29| 3603|\n",
      "|    69| 1342|\n",
      "|100021|  319|\n",
      "|    42| 4257|\n",
      "+------+-----+\n",
      "only showing top 20 rows\n",
      "\n"
     ]
    }
   ],
   "source": [
    "# all users are duplicated \n",
    "df.groupBy(df.userId)\\\n",
    "    .count().show()\n",
    "    "
   ]
  },
  {
   "cell_type": "code",
   "execution_count": 16,
   "metadata": {},
   "outputs": [],
   "source": [
    "#churned users --mostly wont need this\n",
    "churned_df = df.filter(df['page'] == 'Cancellation Confirmation').select(\"userId\").toPandas()"
   ]
  },
  {
   "cell_type": "code",
   "execution_count": 17,
   "metadata": {
    "scrolled": true
   },
   "outputs": [
    {
     "data": {
      "text/plain": [
       "[Row(userId='32', sessionId=218, page='NextSong', level='free', song='Beyond The Beyond (Instrumental)'),\n",
       " Row(userId='32', sessionId=218, page='NextSong', level='free', song='Paradise City'),\n",
       " Row(userId='32', sessionId=218, page='NextSong', level='free', song='Alejandro'),\n",
       " Row(userId='32', sessionId=218, page='Roll Advert', level='free', song=None),\n",
       " Row(userId='32', sessionId=218, page='NextSong', level='free', song='Luv U Better'),\n",
       " Row(userId='32', sessionId=218, page='Thumbs Up', level='free', song=None),\n",
       " Row(userId='32', sessionId=218, page='NextSong', level='free', song='My Life Would Suck Without You'),\n",
       " Row(userId='32', sessionId=218, page='Add to Playlist', level='free', song=None),\n",
       " Row(userId='32', sessionId=218, page='NextSong', level='free', song='Jamaica Roots II(Agora E Sempre)'),\n",
       " Row(userId='32', sessionId=218, page='NextSong', level='free', song='Dusk'),\n",
       " Row(userId='32', sessionId=218, page='NextSong', level='free', song='September'),\n",
       " Row(userId='32', sessionId=218, page='NextSong', level='free', song='Slicker Than Your Average'),\n",
       " Row(userId='32', sessionId=218, page='NextSong', level='free', song='Mellow Mood'),\n",
       " Row(userId='32', sessionId=218, page='NextSong', level='free', song='Dangerously In Love'),\n",
       " Row(userId='32', sessionId=218, page='NextSong', level='free', song='Fix You'),\n",
       " Row(userId='32', sessionId=218, page='NextSong', level='free', song='Morder'),\n",
       " Row(userId='32', sessionId=218, page='Roll Advert', level='free', song=None),\n",
       " Row(userId='32', sessionId=218, page='Logout', level='free', song=None),\n",
       " Row(userId='32', sessionId=218, page='Home', level='free', song=None),\n",
       " Row(userId='32', sessionId=218, page='NextSong', level='free', song='If I Knew Then (What I Know Now)'),\n",
       " Row(userId='32', sessionId=218, page='NextSong', level='free', song='Goodbye Hollywood'),\n",
       " Row(userId='32', sessionId=218, page='NextSong', level='free', song='Come Back Home'),\n",
       " Row(userId='32', sessionId=218, page='Add to Playlist', level='free', song=None),\n",
       " Row(userId='32', sessionId=218, page='NextSong', level='free', song='Parallel Universe (Album Version)'),\n",
       " Row(userId='32', sessionId=218, page='NextSong', level='free', song='After Party'),\n",
       " Row(userId='32', sessionId=218, page='Add to Playlist', level='free', song=None),\n",
       " Row(userId='32', sessionId=218, page='NextSong', level='free', song='Un poco mas'),\n",
       " Row(userId='32', sessionId=218, page='NextSong', level='free', song='Who Gave The Order'),\n",
       " Row(userId='32', sessionId=218, page='NextSong', level='free', song='I Gotta Feeling'),\n",
       " Row(userId='32', sessionId=218, page='NextSong', level='free', song='Sure Thing Falling'),\n",
       " Row(userId='32', sessionId=218, page='NextSong', level='free', song='Ganas De Ti (Album Version)'),\n",
       " Row(userId='32', sessionId=218, page='Thumbs Up', level='free', song=None),\n",
       " Row(userId='32', sessionId=218, page='NextSong', level='free', song='The Safe Side'),\n",
       " Row(userId='32', sessionId=218, page='NextSong', level='free', song='Hillbilly Rock'),\n",
       " Row(userId='32', sessionId=404, page='NextSong', level='free', song='Unicorn Vs. Gravity'),\n",
       " Row(userId='32', sessionId=404, page='Add to Playlist', level='free', song=None),\n",
       " Row(userId='32', sessionId=404, page='NextSong', level='free', song='Fields of Gold'),\n",
       " Row(userId='32', sessionId=404, page='NextSong', level='free', song='The Once Lost Returns'),\n",
       " Row(userId='32', sessionId=404, page='NextSong', level='free', song='Beautiful_ Dirty_ Rich'),\n",
       " Row(userId='32', sessionId=404, page='NextSong', level='free', song='Without Fear'),\n",
       " Row(userId='32', sessionId=404, page='NextSong', level='free', song='Fisher Of Men'),\n",
       " Row(userId='32', sessionId=404, page='Thumbs Up', level='free', song=None),\n",
       " Row(userId='32', sessionId=404, page='NextSong', level='free', song=\"I Don't Want To Hear Any More\"),\n",
       " Row(userId='32', sessionId=404, page='NextSong', level='free', song='Rising Moon'),\n",
       " Row(userId='32', sessionId=404, page='NextSong', level='free', song='Capable Girl'),\n",
       " Row(userId='32', sessionId=404, page='NextSong', level='free', song='Am I High (Feat. Malice)'),\n",
       " Row(userId='32', sessionId=404, page='NextSong', level='free', song='Mockingbird'),\n",
       " Row(userId='32', sessionId=404, page='NextSong', level='free', song='Yeah!'),\n",
       " Row(userId='32', sessionId=404, page='Thumbs Up', level='free', song=None),\n",
       " Row(userId='32', sessionId=404, page='NextSong', level='free', song='Who Knows Who Cares'),\n",
       " Row(userId='32', sessionId=404, page='Thumbs Up', level='free', song=None),\n",
       " Row(userId='32', sessionId=540, page='NextSong', level='free', song=\"Road Trippin' (Album Version)\"),\n",
       " Row(userId='32', sessionId=540, page='NextSong', level='free', song='Far Far'),\n",
       " Row(userId='32', sessionId=540, page='NextSong', level='free', song='Nothing Left (Album Version)'),\n",
       " Row(userId='32', sessionId=540, page='NextSong', level='free', song='For Once In My Life (Album Version)'),\n",
       " Row(userId='32', sessionId=540, page='Roll Advert', level='free', song=None),\n",
       " Row(userId='32', sessionId=540, page='NextSong', level='free', song='Tive Sim'),\n",
       " Row(userId='32', sessionId=540, page='NextSong', level='free', song='EMCEE Murdah'),\n",
       " Row(userId='32', sessionId=540, page='NextSong', level='free', song='Space (I Believe In)'),\n",
       " Row(userId='32', sessionId=540, page='NextSong', level='free', song='Southern State'),\n",
       " Row(userId='32', sessionId=540, page='NextSong', level='free', song='Rock The Casbah'),\n",
       " Row(userId='32', sessionId=540, page='Upgrade', level='free', song=None),\n",
       " Row(userId='32', sessionId=540, page='Submit Upgrade', level='free', song=None),\n",
       " Row(userId='32', sessionId=540, page='Home', level='paid', song=None),\n",
       " Row(userId='32', sessionId=540, page='NextSong', level='paid', song='Greece 2000'),\n",
       " Row(userId='32', sessionId=540, page='NextSong', level='paid', song='Hey_ Soul Sister'),\n",
       " Row(userId='32', sessionId=540, page='NextSong', level='paid', song=\"My Ropin' Days Are Done\"),\n",
       " Row(userId='32', sessionId=540, page='NextSong', level='paid', song='Russia Privjet'),\n",
       " Row(userId='32', sessionId=540, page='NextSong', level='paid', song='Pop Into My Heart'),\n",
       " Row(userId='32', sessionId=540, page='NextSong', level='paid', song='Werewolf Women Of The SS (Album Version)'),\n",
       " Row(userId='32', sessionId=540, page='NextSong', level='paid', song='Heartbreak Warfare'),\n",
       " Row(userId='32', sessionId=540, page='NextSong', level='paid', song='Big Idea'),\n",
       " Row(userId='32', sessionId=540, page='NextSong', level='paid', song='Here (In Your Arms) (Radio Edit)'),\n",
       " Row(userId='32', sessionId=540, page='NextSong', level='paid', song=\"Moar Ghosts 'n' Stuff\"),\n",
       " Row(userId='32', sessionId=540, page='NextSong', level='paid', song='The Best Day'),\n",
       " Row(userId='32', sessionId=540, page='NextSong', level='paid', song='Orange TrÃ\\x83Â¤gt Nur Die MÃ\\x83Â¼llabfuhr (Go West)'),\n",
       " Row(userId='32', sessionId=540, page='NextSong', level='paid', song='Clint Eastwood (Explicit)'),\n",
       " Row(userId='32', sessionId=540, page='NextSong', level='paid', song='O Raaje'),\n",
       " Row(userId='32', sessionId=540, page='NextSong', level='paid', song=\"It's My Life\"),\n",
       " Row(userId='32', sessionId=540, page='Thumbs Up', level='paid', song=None),\n",
       " Row(userId='32', sessionId=540, page='NextSong', level='paid', song='Mojo'),\n",
       " Row(userId='32', sessionId=540, page='NextSong', level='paid', song='Baby Let Me Take You Home'),\n",
       " Row(userId='32', sessionId=540, page='NextSong', level='paid', song='Balaclava'),\n",
       " Row(userId='32', sessionId=540, page='Thumbs Down', level='paid', song=None),\n",
       " Row(userId='32', sessionId=540, page='NextSong', level='paid', song='Prelude To A Dream'),\n",
       " Row(userId='32', sessionId=540, page='Add to Playlist', level='paid', song=None),\n",
       " Row(userId='32', sessionId=540, page='NextSong', level='paid', song='Sympathy For The Devil'),\n",
       " Row(userId='32', sessionId=540, page='NextSong', level='paid', song='Jerk It Out (Original Mix)'),\n",
       " Row(userId='32', sessionId=540, page='NextSong', level='paid', song='All Alone'),\n",
       " Row(userId='32', sessionId=540, page='Thumbs Up', level='paid', song=None),\n",
       " Row(userId='32', sessionId=540, page='Add to Playlist', level='paid', song=None),\n",
       " Row(userId='32', sessionId=540, page='NextSong', level='paid', song='Sandstorm'),\n",
       " Row(userId='32', sessionId=540, page='Downgrade', level='paid', song=None),\n",
       " Row(userId='32', sessionId=540, page='Home', level='paid', song=None),\n",
       " Row(userId='32', sessionId=540, page='NextSong', level='paid', song='Long Arm Of The Law'),\n",
       " Row(userId='32', sessionId=540, page='NextSong', level='paid', song='Wishing Well'),\n",
       " Row(userId='32', sessionId=540, page='Add to Playlist', level='paid', song=None),\n",
       " Row(userId='32', sessionId=540, page='NextSong', level='paid', song=\"It's Just Like Surgery\"),\n",
       " Row(userId='32', sessionId=540, page='NextSong', level='paid', song='Sentimental Street'),\n",
       " Row(userId='32', sessionId=540, page='NextSong', level='paid', song='Come on Closer'),\n",
       " Row(userId='32', sessionId=540, page='NextSong', level='paid', song='Undo'),\n",
       " Row(userId='32', sessionId=540, page='NextSong', level='paid', song='Electric Fever (Idiotproof remix)'),\n",
       " Row(userId='32', sessionId=540, page='NextSong', level='paid', song='Rianna'),\n",
       " Row(userId='32', sessionId=540, page='NextSong', level='paid', song=\"I'd Rather Fuck You (Explicit) (Feat. Eazy-E)\"),\n",
       " Row(userId='32', sessionId=540, page='NextSong', level='paid', song='Anchor Of My Soul'),\n",
       " Row(userId='32', sessionId=540, page='Downgrade', level='paid', song=None),\n",
       " Row(userId='32', sessionId=540, page='Cancel', level='paid', song=None),\n",
       " Row(userId='32', sessionId=540, page='Cancellation Confirmation', level='paid', song=None)]"
      ]
     },
     "execution_count": 17,
     "metadata": {},
     "output_type": "execute_result"
    }
   ],
   "source": [
    "df.select([\"userId\", \"sessionId\", \"page\", \"level\", \"song\"]).filter((col('userId') == '32')).collect()"
   ]
  },
  {
   "cell_type": "code",
   "execution_count": 18,
   "metadata": {},
   "outputs": [],
   "source": [
    "hasCancelled = udf(lambda x: 1 if x == \"Cancellation Confirmation\" else 0, IntegerType())\n",
    "\n",
    "window = Window.partitionBy(\"userId\").rangeBetween(Window.unboundedPreceding, Window.unboundedFollowing)\n"
   ]
  },
  {
   "cell_type": "code",
   "execution_count": 19,
   "metadata": {},
   "outputs": [],
   "source": [
    "df = df.withColumn(\"churned\", hasCancelled(\"page\"))\n"
   ]
  },
  {
   "cell_type": "code",
   "execution_count": 20,
   "metadata": {},
   "outputs": [],
   "source": [
    "df = df.withColumn(\"churned\", Fsum(\"churned\").over(window))\n"
   ]
  },
  {
   "cell_type": "code",
   "execution_count": 21,
   "metadata": {},
   "outputs": [
    {
     "name": "stdout",
     "output_type": "stream",
     "text": [
      "-RECORD 0----------------------------------------------------------------------------------------------------------------------------------------------------\n",
      " artist        | Sleeping With Sirens                                                                                                                        \n",
      " auth          | Logged In                                                                                                                                   \n",
      " firstName     | Darianna                                                                                                                                    \n",
      " gender        | F                                                                                                                                           \n",
      " itemInSession | 0                                                                                                                                           \n",
      " lastName      | Carpenter                                                                                                                                   \n",
      " length        | 202.97098                                                                                                                                   \n",
      " level         | free                                                                                                                                        \n",
      " location      | Bridgeport-Stamford-Norwalk, CT                                                                                                             \n",
      " method        | PUT                                                                                                                                         \n",
      " page          | NextSong                                                                                                                                    \n",
      " registration  | 1538016340000                                                                                                                               \n",
      " sessionId     | 31                                                                                                                                          \n",
      " song          | Captain Tyin Knots VS Mr Walkway (No Way)                                                                                                   \n",
      " status        | 200                                                                                                                                         \n",
      " ts            | 1539003534000                                                                                                                               \n",
      " userAgent     | \"Mozilla/5.0 (iPhone; CPU iPhone OS 7_1_2 like Mac OS X) AppleWebKit/537.51.2 (KHTML, like Gecko) Version/7.0 Mobile/11D257 Safari/9537.53\" \n",
      " userId        | 100010                                                                                                                                      \n",
      " hour          | 12                                                                                                                                          \n",
      " churned       | 0                                                                                                                                           \n",
      "only showing top 1 row\n",
      "\n"
     ]
    }
   ],
   "source": [
    "df.show(1,vertical= True,truncate = False)"
   ]
  },
  {
   "cell_type": "code",
   "execution_count": 22,
   "metadata": {},
   "outputs": [
    {
     "data": {
      "text/html": [
       "<div>\n",
       "<style scoped>\n",
       "    .dataframe tbody tr th:only-of-type {\n",
       "        vertical-align: middle;\n",
       "    }\n",
       "\n",
       "    .dataframe tbody tr th {\n",
       "        vertical-align: top;\n",
       "    }\n",
       "\n",
       "    .dataframe thead th {\n",
       "        text-align: right;\n",
       "    }\n",
       "</style>\n",
       "<table border=\"1\" class=\"dataframe\">\n",
       "  <thead>\n",
       "    <tr style=\"text-align: right;\">\n",
       "      <th></th>\n",
       "      <th>level</th>\n",
       "      <th>gender</th>\n",
       "      <th>count</th>\n",
       "    </tr>\n",
       "  </thead>\n",
       "  <tbody>\n",
       "    <tr>\n",
       "      <th>0</th>\n",
       "      <td>free</td>\n",
       "      <td>None</td>\n",
       "      <td>1</td>\n",
       "    </tr>\n",
       "    <tr>\n",
       "      <th>1</th>\n",
       "      <td>paid</td>\n",
       "      <td>M</td>\n",
       "      <td>21</td>\n",
       "    </tr>\n",
       "    <tr>\n",
       "      <th>2</th>\n",
       "      <td>paid</td>\n",
       "      <td>F</td>\n",
       "      <td>27</td>\n",
       "    </tr>\n",
       "    <tr>\n",
       "      <th>3</th>\n",
       "      <td>free</td>\n",
       "      <td>F</td>\n",
       "      <td>77</td>\n",
       "    </tr>\n",
       "    <tr>\n",
       "      <th>4</th>\n",
       "      <td>free</td>\n",
       "      <td>M</td>\n",
       "      <td>100</td>\n",
       "    </tr>\n",
       "  </tbody>\n",
       "</table>\n",
       "</div>"
      ],
      "text/plain": [
       "  level gender  count\n",
       "0  free   None      1\n",
       "1  paid      M     21\n",
       "2  paid      F     27\n",
       "3  free      F     77\n",
       "4  free      M    100"
      ]
     },
     "execution_count": 22,
     "metadata": {},
     "output_type": "execute_result"
    }
   ],
   "source": [
    "dfp_levels = df.drop_duplicates(['userId','gender']).groupby('level','gender').count().sort('count').toPandas()\n",
    "dfp_levels"
   ]
  },
  {
   "cell_type": "code",
   "execution_count": 23,
   "metadata": {},
   "outputs": [],
   "source": [
    "df_p = df.toPandas()"
   ]
  },
  {
   "cell_type": "code",
   "execution_count": 24,
   "metadata": {},
   "outputs": [
    {
     "data": {
      "text/plain": [
       "gender  level\n",
       "F       free      77\n",
       "        paid      27\n",
       "M       free     100\n",
       "        paid      21\n",
       "Name: userId, dtype: int64"
      ]
     },
     "execution_count": 24,
     "metadata": {},
     "output_type": "execute_result"
    }
   ],
   "source": [
    "df_p_levels = df_p.drop_duplicates(subset = 'userId').groupby(['gender','level']).count()\n",
    "df_p_levels['userId']"
   ]
  },
  {
   "cell_type": "code",
   "execution_count": null,
   "metadata": {},
   "outputs": [],
   "source": []
  },
  {
   "cell_type": "code",
   "execution_count": 25,
   "metadata": {},
   "outputs": [
    {
     "data": {
      "image/png": "[encoded data removed]",
      "text/plain": [
       "<matplotlib.figure.Figure at 0x7fac8d830080>"
      ]
     },
     "metadata": {
      "needs_background": "light"
     },
     "output_type": "display_data"
    }
   ],
   "source": [
    "ax = sns.barplot(x = 'count',y = 'level',hue = 'gender' , data = dfp_levels)\n",
    "plt.xlabel('rate')\n",
    "plt.ylabel('level')\n",
    "plt.legend(title='Gender', loc='best')\n",
    "plt.title('More females are using the paid version')\n",
    "sns.despine(ax=ax);"
   ]
  },
  {
   "cell_type": "code",
   "execution_count": 26,
   "metadata": {
    "scrolled": true
   },
   "outputs": [
    {
     "data": {
      "text/plain": [
       "0         \"Mozilla/5.0 (iPhone; CPU iPhone OS 7_1_2 like...\n",
       "1         \"Mozilla/5.0 (iPhone; CPU iPhone OS 7_1_2 like...\n",
       "2         \"Mozilla/5.0 (iPhone; CPU iPhone OS 7_1_2 like...\n",
       "3         \"Mozilla/5.0 (iPhone; CPU iPhone OS 7_1_2 like...\n",
       "4         \"Mozilla/5.0 (iPhone; CPU iPhone OS 7_1_2 like...\n",
       "5         \"Mozilla/5.0 (iPhone; CPU iPhone OS 7_1_2 like...\n",
       "6         \"Mozilla/5.0 (iPhone; CPU iPhone OS 7_1_2 like...\n",
       "7         \"Mozilla/5.0 (iPhone; CPU iPhone OS 7_1_2 like...\n",
       "8         \"Mozilla/5.0 (iPhone; CPU iPhone OS 7_1_2 like...\n",
       "9         \"Mozilla/5.0 (iPhone; CPU iPhone OS 7_1_2 like...\n",
       "10        \"Mozilla/5.0 (iPhone; CPU iPhone OS 7_1_2 like...\n",
       "11        \"Mozilla/5.0 (iPhone; CPU iPhone OS 7_1_2 like...\n",
       "12        \"Mozilla/5.0 (iPhone; CPU iPhone OS 7_1_2 like...\n",
       "13        \"Mozilla/5.0 (iPhone; CPU iPhone OS 7_1_2 like...\n",
       "14        \"Mozilla/5.0 (iPhone; CPU iPhone OS 7_1_2 like...\n",
       "15        \"Mozilla/5.0 (iPhone; CPU iPhone OS 7_1_2 like...\n",
       "16        \"Mozilla/5.0 (iPhone; CPU iPhone OS 7_1_2 like...\n",
       "17        \"Mozilla/5.0 (iPhone; CPU iPhone OS 7_1_2 like...\n",
       "18        \"Mozilla/5.0 (iPhone; CPU iPhone OS 7_1_2 like...\n",
       "19        \"Mozilla/5.0 (iPhone; CPU iPhone OS 7_1_2 like...\n",
       "20        \"Mozilla/5.0 (iPhone; CPU iPhone OS 7_1_2 like...\n",
       "21        \"Mozilla/5.0 (iPhone; CPU iPhone OS 7_1_2 like...\n",
       "22        \"Mozilla/5.0 (iPhone; CPU iPhone OS 7_1_2 like...\n",
       "23        \"Mozilla/5.0 (iPhone; CPU iPhone OS 7_1_2 like...\n",
       "24        \"Mozilla/5.0 (iPhone; CPU iPhone OS 7_1_2 like...\n",
       "25        \"Mozilla/5.0 (iPhone; CPU iPhone OS 7_1_2 like...\n",
       "26        \"Mozilla/5.0 (iPhone; CPU iPhone OS 7_1_2 like...\n",
       "27        \"Mozilla/5.0 (iPhone; CPU iPhone OS 7_1_2 like...\n",
       "28        \"Mozilla/5.0 (iPhone; CPU iPhone OS 7_1_2 like...\n",
       "29        \"Mozilla/5.0 (iPhone; CPU iPhone OS 7_1_2 like...\n",
       "                                ...                        \n",
       "286470    \"Mozilla/5.0 (Macintosh; Intel Mac OS X 10_6_8...\n",
       "286471    \"Mozilla/5.0 (Macintosh; Intel Mac OS X 10_6_8...\n",
       "286472    \"Mozilla/5.0 (Macintosh; Intel Mac OS X 10_6_8...\n",
       "286473    \"Mozilla/5.0 (Macintosh; Intel Mac OS X 10_6_8...\n",
       "286474    \"Mozilla/5.0 (Macintosh; Intel Mac OS X 10_6_8...\n",
       "286475    \"Mozilla/5.0 (Macintosh; Intel Mac OS X 10_6_8...\n",
       "286476    \"Mozilla/5.0 (Macintosh; Intel Mac OS X 10_6_8...\n",
       "286477    \"Mozilla/5.0 (Macintosh; Intel Mac OS X 10_6_8...\n",
       "286478    \"Mozilla/5.0 (Macintosh; Intel Mac OS X 10_6_8...\n",
       "286479    \"Mozilla/5.0 (Macintosh; Intel Mac OS X 10_6_8...\n",
       "286480    \"Mozilla/5.0 (Macintosh; Intel Mac OS X 10_6_8...\n",
       "286481    \"Mozilla/5.0 (Macintosh; Intel Mac OS X 10_6_8...\n",
       "286482    \"Mozilla/5.0 (Macintosh; Intel Mac OS X 10_6_8...\n",
       "286483    \"Mozilla/5.0 (Macintosh; Intel Mac OS X 10_6_8...\n",
       "286484    \"Mozilla/5.0 (Macintosh; Intel Mac OS X 10_6_8...\n",
       "286485    \"Mozilla/5.0 (Macintosh; Intel Mac OS X 10_6_8...\n",
       "286486    \"Mozilla/5.0 (Macintosh; Intel Mac OS X 10_6_8...\n",
       "286487    \"Mozilla/5.0 (Macintosh; Intel Mac OS X 10_6_8...\n",
       "286488    \"Mozilla/5.0 (Macintosh; Intel Mac OS X 10_6_8...\n",
       "286489    \"Mozilla/5.0 (Macintosh; Intel Mac OS X 10_6_8...\n",
       "286490    \"Mozilla/5.0 (Macintosh; Intel Mac OS X 10_6_8...\n",
       "286491    \"Mozilla/5.0 (Macintosh; Intel Mac OS X 10_6_8...\n",
       "286492    \"Mozilla/5.0 (Macintosh; Intel Mac OS X 10_6_8...\n",
       "286493    \"Mozilla/5.0 (Macintosh; Intel Mac OS X 10_6_8...\n",
       "286494    \"Mozilla/5.0 (Macintosh; Intel Mac OS X 10_6_8...\n",
       "286495    \"Mozilla/5.0 (Macintosh; Intel Mac OS X 10_6_8...\n",
       "286496    \"Mozilla/5.0 (Macintosh; Intel Mac OS X 10_6_8...\n",
       "286497    \"Mozilla/5.0 (Macintosh; Intel Mac OS X 10_6_8...\n",
       "286498    \"Mozilla/5.0 (Macintosh; Intel Mac OS X 10_6_8...\n",
       "286499    \"Mozilla/5.0 (Macintosh; Intel Mac OS X 10_6_8...\n",
       "Name: userAgent, Length: 286500, dtype: object"
      ]
     },
     "execution_count": 26,
     "metadata": {},
     "output_type": "execute_result"
    }
   ],
   "source": [
    "df_p['userAgent']"
   ]
  },
  {
   "cell_type": "code",
   "execution_count": 27,
   "metadata": {
    "scrolled": true
   },
   "outputs": [],
   "source": [
    "songs_per_hour_pd = df.filter(df.page == \"NextSong\").groupby(['hour']).count().withColumnRenamed(\"count\", \"nextSongs\").toPandas()\n"
   ]
  },
  {
   "cell_type": "code",
   "execution_count": 28,
   "metadata": {},
   "outputs": [
    {
     "data": {
      "text/html": [
       "<div>\n",
       "<style scoped>\n",
       "    .dataframe tbody tr th:only-of-type {\n",
       "        vertical-align: middle;\n",
       "    }\n",
       "\n",
       "    .dataframe tbody tr th {\n",
       "        vertical-align: top;\n",
       "    }\n",
       "\n",
       "    .dataframe thead th {\n",
       "        text-align: right;\n",
       "    }\n",
       "</style>\n",
       "<table border=\"1\" class=\"dataframe\">\n",
       "  <thead>\n",
       "    <tr style=\"text-align: right;\">\n",
       "      <th></th>\n",
       "      <th>hour</th>\n",
       "      <th>nextSongs</th>\n",
       "    </tr>\n",
       "  </thead>\n",
       "  <tbody>\n",
       "    <tr>\n",
       "      <th>0</th>\n",
       "      <td>7</td>\n",
       "      <td>8091</td>\n",
       "    </tr>\n",
       "    <tr>\n",
       "      <th>1</th>\n",
       "      <td>15</td>\n",
       "      <td>11354</td>\n",
       "    </tr>\n",
       "    <tr>\n",
       "      <th>2</th>\n",
       "      <td>11</td>\n",
       "      <td>8830</td>\n",
       "    </tr>\n",
       "    <tr>\n",
       "      <th>3</th>\n",
       "      <td>3</td>\n",
       "      <td>8355</td>\n",
       "    </tr>\n",
       "    <tr>\n",
       "      <th>4</th>\n",
       "      <td>8</td>\n",
       "      <td>8253</td>\n",
       "    </tr>\n",
       "  </tbody>\n",
       "</table>\n",
       "</div>"
      ],
      "text/plain": [
       "  hour  nextSongs\n",
       "0    7       8091\n",
       "1   15      11354\n",
       "2   11       8830\n",
       "3    3       8355\n",
       "4    8       8253"
      ]
     },
     "execution_count": 28,
     "metadata": {},
     "output_type": "execute_result"
    }
   ],
   "source": [
    "songs_per_hour_pd.head()"
   ]
  },
  {
   "cell_type": "code",
   "execution_count": 29,
   "metadata": {},
   "outputs": [
    {
     "data": {
      "image/png": "[encoded data removed]",
      "text/plain": [
       "<matplotlib.figure.Figure at 0x7fac9476c550>"
      ]
     },
     "metadata": {
      "needs_background": "light"
     },
     "output_type": "display_data"
    }
   ],
   "source": [
    "ax = sns.barplot(x = 'hour',y = 'nextSongs', data = songs_per_hour_pd)\n",
    "plt.xlabel('hour')\n",
    "plt.ylabel('frequency')\n",
    "plt.title('songs listened along the day')\n",
    "sns.despine(ax=ax);"
   ]
  },
  {
   "cell_type": "code",
   "execution_count": 30,
   "metadata": {
    "scrolled": true
   },
   "outputs": [
    {
     "data": {
      "image/png": "[encoded data removed]",
      "text/plain": [
       "<matplotlib.figure.Figure at 0x7fac94bde6d8>"
      ]
     },
     "metadata": {
      "needs_background": "light"
     },
     "output_type": "display_data"
    }
   ],
   "source": [
    "ax =  df_p.drop_duplicates(subset = ['userId'])['churned'].value_counts().plot(\n",
    "                                kind='bar', figsize=(8,5), \n",
    "                                title='churned vs stayed');\n",
    "ax.set_xlabel('state');\n",
    "ax.set_xticklabels(['active','cancelled'], rotation=0)\n",
    "ax.set_ylabel('frequency');\n",
    "    \n",
    "    \n"
   ]
  },
  {
   "cell_type": "code",
   "execution_count": null,
   "metadata": {},
   "outputs": [],
   "source": []
  },
  {
   "cell_type": "markdown",
   "metadata": {},
   "source": [
    "# Feature Engineering\n",
    "Once you've familiarized yourself with the data, build out the features you find promising to train your model on. To work with the full dataset, you can follow the following steps.\n",
    "- Write a script to extract the necessary features from the smaller subset of data\n",
    "- Ensure that your script is scalable, using the best practices discussed in Lesson 3\n",
    "- Try your script on the full data set, debugging your script if necessary\n",
    "\n",
    "If you are working in the classroom workspace, you can just extract features based on the small subset of data contained here. Be sure to transfer over this work to the larger dataset when you work on your Spark cluster.\n",
    "\n",
    "### features in mind:\n",
    "- Tracking pages:\n",
    "-    added to playlist +\n",
    "-    Error -\n",
    "-    thumgs Down -\n",
    "-    thumbs up +\n",
    "-    upgrade +\n",
    "- number of songs + \n",
    "\n",
    " "
   ]
  },
  {
   "cell_type": "code",
   "execution_count": 31,
   "metadata": {},
   "outputs": [
    {
     "name": "stdout",
     "output_type": "stream",
     "text": [
      "+-------+------------------+------------------+\n",
      "|summary|            userId|         nextSongs|\n",
      "+-------+------------------+------------------+\n",
      "|  count|               225|               225|\n",
      "|   mean|65391.013333333336|1013.8133333333334|\n",
      "| stddev|105396.47791907164|1104.9607785540886|\n",
      "|    min|                10|                 3|\n",
      "|    max|                99|              8002|\n",
      "+-------+------------------+------------------+\n",
      "\n"
     ]
    }
   ],
   "source": [
    "#this shows teh maximum count listened to by the users came in 3 pm\n",
    "songs_in_hour = df.filter(df.page == \"NextSong\").groupby(['userId']).count().withColumnRenamed(\"count\", \"nextSongs\")\n",
    "songs_in_hour.describe().show()"
   ]
  },
  {
   "cell_type": "code",
   "execution_count": 32,
   "metadata": {},
   "outputs": [
    {
     "name": "stdout",
     "output_type": "stream",
     "text": [
      "+-------+------------------+-----------------+\n",
      "|summary|            userId|    addToPlaylist|\n",
      "+-------+------------------+-----------------+\n",
      "|  count|               215|              215|\n",
      "|   mean| 66103.63720930232|30.35348837209302|\n",
      "| stddev|106360.47999565038| 32.8520568555997|\n",
      "|    min|                10|                1|\n",
      "|    max|                99|              240|\n",
      "+-------+------------------+-----------------+\n",
      "\n"
     ]
    }
   ],
   "source": [
    "added_to_playlist = df.filter(df.page == 'Add to Playlist').groupby(['userId']).count() \\\n",
    ".withColumnRenamed(\"count\", \"addToPlaylist\")\n",
    "added_to_playlist.describe().show()"
   ]
  },
  {
   "cell_type": "code",
   "execution_count": 33,
   "metadata": {},
   "outputs": [
    {
     "name": "stdout",
     "output_type": "stream",
     "text": [
      "+-------+------------------+------------------+\n",
      "|summary|            userId|             Error|\n",
      "+-------+------------------+------------------+\n",
      "|  count|               118|               118|\n",
      "|   mean| 67580.35897435897|2.1864406779661016|\n",
      "| stddev|110479.86962560513|1.4319262774221952|\n",
      "|    min|                  |                 1|\n",
      "|    max|                98|                 7|\n",
      "+-------+------------------+------------------+\n",
      "\n"
     ]
    }
   ],
   "source": [
    "errors = df.filter(df.page == \"Error\").groupby(['userId']).count().withColumnRenamed(\"count\", \"Error\")\n",
    "errors.describe().show()"
   ]
  },
  {
   "cell_type": "code",
   "execution_count": 34,
   "metadata": {},
   "outputs": [
    {
     "name": "stdout",
     "output_type": "stream",
     "text": [
      "+-------+------------------+------------------+\n",
      "|summary|            userId|          NextSong|\n",
      "+-------+------------------+------------------+\n",
      "|  count|               225|               225|\n",
      "|   mean|65391.013333333336|1013.8133333333334|\n",
      "| stddev|105396.47791907164|1104.9607785540886|\n",
      "|    min|                10|                 3|\n",
      "|    max|                99|              8002|\n",
      "+-------+------------------+------------------+\n",
      "\n"
     ]
    }
   ],
   "source": [
    "total_songs = df.filter(df.page == \"NextSong\").groupby(['userId']).count().withColumnRenamed(\"count\", \"NextSong\")\n",
    "total_songs.describe().show()"
   ]
  },
  {
   "cell_type": "code",
   "execution_count": 35,
   "metadata": {},
   "outputs": [
    {
     "name": "stdout",
     "output_type": "stream",
     "text": [
      "+-------+------------------+------------------+\n",
      "|summary|            userId|       thumbsDowns|\n",
      "+-------+------------------+------------------+\n",
      "|  count|               203|               203|\n",
      "|   mean| 66066.16256157635|12.541871921182265|\n",
      "| stddev|106108.32569893777|13.198108566983787|\n",
      "|    min|                10|                 1|\n",
      "|    max|                99|                75|\n",
      "+-------+------------------+------------------+\n",
      "\n"
     ]
    }
   ],
   "source": [
    "thumbs_down = df.filter(df.page == \"Thumbs Down\").groupby(['userId']).count().withColumnRenamed(\"count\", \"thumbsDowns\")\n",
    "thumbs_down.describe().show()"
   ]
  },
  {
   "cell_type": "code",
   "execution_count": 36,
   "metadata": {},
   "outputs": [
    {
     "name": "stdout",
     "output_type": "stream",
     "text": [
      "+-------+------------------+-----------------+\n",
      "|summary|            userId|        thumbsUps|\n",
      "+-------+------------------+-----------------+\n",
      "|  count|               220|              220|\n",
      "|   mean| 66420.27727272727|            57.05|\n",
      "| stddev|106196.51156121881|65.67028650524044|\n",
      "|    min|                10|                1|\n",
      "|    max|                99|              437|\n",
      "+-------+------------------+-----------------+\n",
      "\n"
     ]
    }
   ],
   "source": [
    "thumbs_up = df.filter(df.page == \"Thumbs Up\").groupby(['userId']).count().withColumnRenamed(\"count\", \"thumbsUps\")\n",
    "thumbs_up.describe().show()"
   ]
  },
  {
   "cell_type": "markdown",
   "metadata": {},
   "source": [
    "#### reflection : most of the values are not deviating alot from the mean however using the standard scaler would make the results even more accurate"
   ]
  },
  {
   "cell_type": "code",
   "execution_count": 37,
   "metadata": {},
   "outputs": [
    {
     "name": "stdout",
     "output_type": "stream",
     "text": [
      "+------+-----+\n",
      "|userId|label|\n",
      "+------+-----+\n",
      "|100010|    0|\n",
      "|200002|    0|\n",
      "|   125|    1|\n",
      "|   124|    0|\n",
      "|    51|    1|\n",
      "+------+-----+\n",
      "only showing top 5 rows\n",
      "\n"
     ]
    }
   ],
   "source": [
    "# Churn label\n",
    "label = df['userId','churned'].withColumnRenamed(\"churned\", \"label\").dropDuplicates()\n",
    "label.show(5)"
   ]
  },
  {
   "cell_type": "code",
   "execution_count": 38,
   "metadata": {},
   "outputs": [
    {
     "name": "stdout",
     "output_type": "stream",
     "text": [
      "+---------+-------------+-----+--------+-----------+---------+-----+\n",
      "|nextSongs|addToPlaylist|Error|NextSong|thumbsDowns|thumbsUps|label|\n",
      "+---------+-------------+-----+--------+-----------+---------+-----+\n",
      "|      275|            7|    0|     275|          5|       17|    0|\n",
      "|      387|            8|    0|     387|          6|       21|    0|\n",
      "|        8|            0|    0|       8|          0|        0|    1|\n",
      "|     4079|          118|    6|    4079|         41|      171|    0|\n",
      "|     2111|           52|    1|    2111|         21|      100|    1|\n",
      "|      150|            5|    1|     150|          1|        7|    0|\n",
      "|     1914|           59|    2|    1914|         14|       81|    0|\n",
      "|     2841|           72|    1|    2841|         29|      163|    1|\n",
      "|      820|           24|    3|     820|          3|       58|    0|\n",
      "|      257|            7|    0|     257|          3|       17|    1|\n",
      "+---------+-------------+-----+--------+-----------+---------+-----+\n",
      "only showing top 10 rows\n",
      "\n"
     ]
    }
   ],
   "source": [
    "data = songs_in_hour.join(added_to_playlist,'userID','outer') \\\n",
    ".join(errors,'userID','outer') \\\n",
    ".join(total_songs,'userID','outer') \\\n",
    ".join(thumbs_down,'userID','outer') \\\n",
    ".join(thumbs_up,'userID','outer') \\\n",
    ".join(label,'userId','outer') \\\n",
    ".drop('userId') \\\n",
    ".fillna(0)\n",
    "\n",
    "data.show(10)"
   ]
  },
  {
   "cell_type": "markdown",
   "metadata": {},
   "source": [
    "# Modeling\n",
    "Split the full dataset into train, test, and validation sets. Test out several of the machine learning methods you learned. Evaluate the accuracy of the various models, tuning parameters as necessary. Determine your winning model based on test accuracy and report results on the validation set. Since the churned users are a fairly small subset, I suggest using F1 score as the metric to optimize."
   ]
  },
  {
   "cell_type": "code",
   "execution_count": 39,
   "metadata": {},
   "outputs": [],
   "source": [
    "#vector assembler\n",
    "#nextSongs|addToPlaylist|Error|NextSong|thumbsDowns|thumbsUps|\n",
    "cols = ['nextSongs','addToPlaylist','Error','NextSong','thumbsDowns','thumbsUps']\n",
    "assembler = VectorAssembler(inputCols=cols, outputCol=\"NumFeatures\")\n",
    "data = assembler.transform(data)"
   ]
  },
  {
   "cell_type": "code",
   "execution_count": 40,
   "metadata": {},
   "outputs": [],
   "source": [
    "scaler = StandardScaler(inputCol=\"NumFeatures\", outputCol=\"features\", withStd=True)\n",
    "scalerModel = scaler.fit(data)\n",
    "data = scalerModel.transform(data)"
   ]
  },
  {
   "cell_type": "code",
   "execution_count": 41,
   "metadata": {},
   "outputs": [],
   "source": [
    "# Split the data into training and test sets (30% held out for testing)\n",
    "(trainingData, testData) = data.randomSplit([0.7, 0.3])\n"
   ]
  },
  {
   "cell_type": "code",
   "execution_count": 42,
   "metadata": {},
   "outputs": [],
   "source": [
    "clasification_algorithms = {'randomForest': [], 'gradientBoostedTree': [],'logisticRegression':[],'SVM' : []}\n",
    "\n",
    "random_forest_list = []\n",
    "gradient_list = []\n",
    "logistic_list = []\n",
    "svm_list = []"
   ]
  },
  {
   "cell_type": "markdown",
   "metadata": {},
   "source": [
    "### random forest"
   ]
  },
  {
   "cell_type": "code",
   "execution_count": 43,
   "metadata": {},
   "outputs": [],
   "source": [
    "# Index labels, adding metadata to the label column.\n",
    "# Fit on whole dataset to include all labels in index.\n",
    "labelIndexer = StringIndexer(inputCol=\"label\", outputCol=\"indexedLabel\").fit(data)\n",
    "\n",
    "# Automatically identify categorical features, and index them.\n",
    "# Set maxCategories so features with > 4 distinct values are treated as continuous.\n",
    "featureIndexer =\\\n",
    "    VectorIndexer(inputCol=\"features\", outputCol=\"indexedFeatures\", maxCategories=2).fit(data)\n",
    "\n"
   ]
  },
  {
   "cell_type": "code",
   "execution_count": 44,
   "metadata": {},
   "outputs": [
    {
     "name": "stdout",
     "output_type": "stream",
     "text": [
      "Test Error = 0.206897\n",
      "accuracy = 0.793103 \n",
      "F1 score = 0.78372 \n",
      "RandomForestClassificationModel (uid=RandomForestClassifier_67037fb4dfcf) with 10 trees\n"
     ]
    }
   ],
   "source": [
    "\n",
    "\n",
    "\n",
    "\n",
    "# Train a RandomForest model.\n",
    "rf = RandomForestClassifier(labelCol=\"indexedLabel\", featuresCol=\"indexedFeatures\", numTrees=10)\n",
    "\n",
    "# Convert indexed labels back to original labels.\n",
    "labelConverter = IndexToString(inputCol=\"prediction\", outputCol=\"predictedLabel\",\n",
    "                               labels=labelIndexer.labels)\n",
    "\n",
    "# Chain indexers and forest in a Pipeline\n",
    "pipeline = Pipeline(stages=[labelIndexer, featureIndexer, rf, labelConverter])\n",
    "\n",
    "\n",
    "# Select (prediction, true label) and compute test error\n",
    "evaluator = MulticlassClassificationEvaluator(\n",
    "    labelCol=\"indexedLabel\", predictionCol=\"prediction\", metricName=\"accuracy\")\n",
    "# build paramGrid\n",
    "paramGrid = ParamGridBuilder().build()\n",
    "\n",
    "crossval_lr = CrossValidator(estimator=pipeline,\n",
    "                          evaluator=evaluator, \n",
    "                          estimatorParamMaps=paramGrid,\n",
    "                          numFolds=5)\n",
    "\n",
    "# Train model.  This also runs the indexers.\n",
    "model = pipeline.fit(trainingData)\n",
    "\n",
    "# Make predictions.\n",
    "predictions = model.transform(testData)\n",
    "\n",
    "\n",
    "\n",
    "accuracy = evaluator.evaluate(predictions)\n",
    "F1_score = evaluator.evaluate(predictions, {evaluator.metricName: \"f1\"})\n",
    "print(\"Test Error = %g\" % (1.0 - accuracy))\n",
    "print(\"accuracy = %g \" % accuracy)\n",
    "print(\"F1 score = %g \" % F1_score)\n",
    "rfModel = model.stages[2]\n",
    "print(rfModel)  # summary only\n"
   ]
  },
  {
   "cell_type": "code",
   "execution_count": 45,
   "metadata": {},
   "outputs": [],
   "source": [
    "random_forest_list.append(accuracy)\n",
    "random_forest_list.append(1 - accuracy)\n",
    "random_forest_list.append(F1_score)\n",
    "\n",
    "\n"
   ]
  },
  {
   "cell_type": "code",
   "execution_count": 46,
   "metadata": {},
   "outputs": [],
   "source": [
    "clasification_algorithms['randomForest'] = random_forest_list"
   ]
  },
  {
   "cell_type": "code",
   "execution_count": null,
   "metadata": {},
   "outputs": [],
   "source": []
  },
  {
   "cell_type": "markdown",
   "metadata": {},
   "source": [
    "### gradient boosted Tree"
   ]
  },
  {
   "cell_type": "code",
   "execution_count": 47,
   "metadata": {},
   "outputs": [
    {
     "name": "stdout",
     "output_type": "stream",
     "text": [
      "+----------+------------+--------------------+\n",
      "|prediction|indexedLabel|            features|\n",
      "+----------+------------+--------------------+\n",
      "|       0.0|         1.0|(6,[0,3],[0.00724...|\n",
      "|       0.0|         0.0|[3.69286258505468...|\n",
      "|       0.0|         1.0|[2.57205751511163...|\n",
      "|       0.0|         0.0|[0.74237492516421...|\n",
      "|       0.0|         0.0|[0.07604816306560...|\n",
      "+----------+------------+--------------------+\n",
      "only showing top 5 rows\n",
      "\n",
      "Test Error = 0.293103\n",
      "accuracy = 0.706897 \n",
      "F1 score = 0.721285 \n",
      "GBTClassificationModel (uid=GBTClassifier_c0e80ea91c1b) with 10 trees\n"
     ]
    }
   ],
   "source": [
    "# Index labels, adding metadata to the label column.\n",
    "# Fit on whole dataset to include all labels in index.\n",
    "labelIndexer = StringIndexer(inputCol=\"label\", outputCol=\"indexedLabel\").fit(data)\n",
    "# Automatically identify categorical features, and index them.\n",
    "# Set maxCategories so features with > 4 distinct values are treated as continuous.\n",
    "featureIndexer =\\\n",
    "    VectorIndexer(inputCol=\"features\", outputCol=\"indexedFeatures\", maxCategories=2).fit(data)\n",
    "\n",
    "# Split the data into training and test sets (30% held out for testing)\n",
    "\n",
    "\n",
    "# Train a GBT model.\n",
    "gbt = GBTClassifier(labelCol=\"indexedLabel\", featuresCol=\"indexedFeatures\", maxIter=10)\n",
    "\n",
    "# Chain indexers and GBT in a Pipeline\n",
    "pipeline = Pipeline(stages=[labelIndexer, featureIndexer, gbt])\n",
    "\n",
    "# build paramGrid\n",
    "paramGrid = ParamGridBuilder().build()\n",
    "\n",
    "crossval_lr = CrossValidator(estimator=pipeline,\n",
    "                          evaluator=evaluator, \n",
    "                          estimatorParamMaps=paramGrid,\n",
    "                          numFolds=5)\n",
    "\n",
    "# Train model.  This also runs the indexers.\n",
    "model = pipeline.fit(trainingData)\n",
    "\n",
    "# Make predictions.\n",
    "predictions = model.transform(testData)\n",
    "\n",
    "# Select example rows to display.\n",
    "predictions.select(\"prediction\", \"indexedLabel\", \"features\").show(5)\n",
    "\n",
    "# Select (prediction, true label) and compute test error\n",
    "evaluator = MulticlassClassificationEvaluator(\n",
    "    labelCol=\"indexedLabel\", predictionCol=\"prediction\", metricName=\"accuracy\")\n",
    "accuracy = evaluator.evaluate(predictions)\n",
    "F1_score = evaluator.evaluate(predictions, {evaluator.metricName: \"f1\"})\n",
    "print(\"Test Error = %g\" % (1.0 - accuracy))\n",
    "print(\"accuracy = %g \" % accuracy)\n",
    "print(\"F1 score = %g \" % F1_score)\n",
    "gbtModel = model.stages[2]\n",
    "print(gbtModel)  # summary only"
   ]
  },
  {
   "cell_type": "code",
   "execution_count": 48,
   "metadata": {},
   "outputs": [],
   "source": [
    "gradient_list.append(accuracy)\n",
    "gradient_list.append(1 - accuracy)\n",
    "gradient_list.append(F1_score)\n"
   ]
  },
  {
   "cell_type": "code",
   "execution_count": 49,
   "metadata": {},
   "outputs": [],
   "source": [
    "clasification_algorithms['gradientBoostedTree'] = gradient_list"
   ]
  },
  {
   "cell_type": "code",
   "execution_count": null,
   "metadata": {},
   "outputs": [],
   "source": [
    "\n"
   ]
  },
  {
   "cell_type": "code",
   "execution_count": null,
   "metadata": {},
   "outputs": [],
   "source": []
  },
  {
   "cell_type": "markdown",
   "metadata": {},
   "source": [
    "\n"
   ]
  },
  {
   "cell_type": "markdown",
   "metadata": {},
   "source": [
    "### Testing logistic regression"
   ]
  },
  {
   "cell_type": "code",
   "execution_count": 50,
   "metadata": {},
   "outputs": [
    {
     "name": "stdout",
     "output_type": "stream",
     "text": [
      "+----------+------------+--------------------+\n",
      "|prediction|indexedLabel|            features|\n",
      "+----------+------------+--------------------+\n",
      "|       0.0|         1.0|(6,[0,3],[0.00724...|\n",
      "|       0.0|         0.0|[3.69286258505468...|\n",
      "|       0.0|         1.0|[2.57205751511163...|\n",
      "|       0.0|         0.0|[0.74237492516421...|\n",
      "|       0.0|         0.0|[0.07604816306560...|\n",
      "+----------+------------+--------------------+\n",
      "only showing top 5 rows\n",
      "\n",
      "Test Error = 0.189655\n",
      "accuracy = 0.810345 \n",
      "F1 score = 0.740887 \n",
      "LogisticRegressionModel: uid = LogisticRegression_d37646f2dcc4, numClasses = 2, numFeatures = 6\n"
     ]
    }
   ],
   "source": [
    "# Index labels, adding metadata to the label column.\n",
    "# Fit on whole dataset to include all labels in index.\n",
    "labelIndexer = StringIndexer(inputCol=\"label\", outputCol=\"indexedLabel\").fit(data)\n",
    "# Automatically identify categorical features, and index them.\n",
    "# Set maxCategories so features with > 4 distinct values are treated as continuous.\n",
    "featureIndexer =\\\n",
    "    VectorIndexer(inputCol=\"features\", outputCol=\"indexedFeatures\", maxCategories=2).fit(data)\n",
    "\n",
    "# Split the data into training and test sets (30% held out for testing)\n",
    "\n",
    "# Train a GBT model.\n",
    "lr = LogisticRegression(labelCol=\"indexedLabel\", featuresCol=\"indexedFeatures\", maxIter=10)\n",
    "\n",
    "# Chain indexers and GBT in a Pipeline\n",
    "pipeline = Pipeline(stages=[labelIndexer, featureIndexer, lr])\n",
    "\n",
    "\n",
    "# build paramGrid\n",
    "paramGrid = ParamGridBuilder().build()\n",
    "\n",
    "crossval_lr = CrossValidator(estimator=pipeline,\n",
    "                          evaluator=evaluator, \n",
    "                          estimatorParamMaps=paramGrid,\n",
    "                          numFolds=5)\n",
    "\n",
    "# Train model.  This also runs the indexers.\n",
    "model = pipeline.fit(trainingData)\n",
    "\n",
    "# Make predictions.\n",
    "predictions = model.transform(testData)\n",
    "\n",
    "# Select example rows to display.\n",
    "predictions.select(\"prediction\", \"indexedLabel\", \"features\").show(5)\n",
    "\n",
    "# Select (prediction, true label) and compute test error\n",
    "evaluator = MulticlassClassificationEvaluator(\n",
    "    labelCol=\"indexedLabel\", predictionCol=\"prediction\", metricName=\"accuracy\")\n",
    "accuracy = evaluator.evaluate(predictions)\n",
    "F1_score = evaluator.evaluate(predictions, {evaluator.metricName: \"f1\"})\n",
    "print(\"Test Error = %g\" % (1.0 - accuracy))\n",
    "print(\"accuracy = %g \" % accuracy)\n",
    "print(\"F1 score = %g \" % F1_score)\n",
    "lr_model = model.stages[2]\n",
    "print(lr_model)  # summary only"
   ]
  },
  {
   "cell_type": "code",
   "execution_count": 51,
   "metadata": {},
   "outputs": [],
   "source": [
    "logistic_list.append(accuracy)\n",
    "logistic_list.append(1- accuracy)\n",
    "logistic_list.append(F1_score)"
   ]
  },
  {
   "cell_type": "code",
   "execution_count": 52,
   "metadata": {},
   "outputs": [],
   "source": [
    "clasification_algorithms['logisticRegression'] = logistic_list"
   ]
  },
  {
   "cell_type": "code",
   "execution_count": 53,
   "metadata": {},
   "outputs": [
    {
     "data": {
      "text/plain": [
       "{'randomForest': [0.7931034482758621, 0.2068965517241379, 0.7837203847056065],\n",
       " 'gradientBoostedTree': [0.7068965517241379,\n",
       "  0.2931034482758621,\n",
       "  0.7212845190308071],\n",
       " 'logisticRegression': [0.8103448275862069,\n",
       "  0.18965517241379315,\n",
       "  0.7408866995073891],\n",
       " 'SVM': []}"
      ]
     },
     "execution_count": 53,
     "metadata": {},
     "output_type": "execute_result"
    }
   ],
   "source": [
    "clasification_algorithms\n"
   ]
  },
  {
   "cell_type": "markdown",
   "metadata": {},
   "source": [
    "### Testing SVM"
   ]
  },
  {
   "cell_type": "code",
   "execution_count": 54,
   "metadata": {},
   "outputs": [
    {
     "data": {
      "text/plain": [
       "(0, 3, 3, 3)"
      ]
     },
     "execution_count": 54,
     "metadata": {},
     "output_type": "execute_result"
    }
   ],
   "source": [
    "#clasification_algorithms = {'randomForest': [], 'gradientBoostedTree': [],'logisticRegression':[],'SVM' : []}\n",
    "len(svm_list),len(logistic_list),len(gradient_list),len(random_forest_list)\n"
   ]
  },
  {
   "cell_type": "code",
   "execution_count": 55,
   "metadata": {},
   "outputs": [
    {
     "name": "stdout",
     "output_type": "stream",
     "text": [
      "+----------+------------+--------------------+\n",
      "|prediction|indexedLabel|            features|\n",
      "+----------+------------+--------------------+\n",
      "|       0.0|         1.0|(6,[0,3],[0.00724...|\n",
      "|       0.0|         0.0|[3.69286258505468...|\n",
      "|       0.0|         1.0|[2.57205751511163...|\n",
      "|       0.0|         0.0|[0.74237492516421...|\n",
      "|       0.0|         0.0|[0.07604816306560...|\n",
      "+----------+------------+--------------------+\n",
      "only showing top 5 rows\n",
      "\n",
      "Test Error = 0.172414\n",
      "accuracy = 0.827586 \n",
      "F1 score = 0.749512 \n",
      "LinearSVC_803bed441824\n"
     ]
    }
   ],
   "source": [
    "# Index labels, adding metadata to the label column.\n",
    "# Fit on whole dataset to include all labels in index.\n",
    "labelIndexer = StringIndexer(inputCol=\"label\", outputCol=\"indexedLabel\").fit(data)\n",
    "# Automatically identify categorical features, and index them.\n",
    "# Set maxCategories so features with > 4 distinct values are treated as continuous.\n",
    "featureIndexer =\\\n",
    "    VectorIndexer(inputCol=\"features\", outputCol=\"indexedFeatures\", maxCategories=2).fit(data)\n",
    "\n",
    "\n",
    "\n",
    "# Train a GBT model.\n",
    "svc = LinearSVC(labelCol=\"indexedLabel\", featuresCol=\"indexedFeatures\", maxIter=10)\n",
    "\n",
    "# Chain indexers and GBT in a Pipeline\n",
    "pipeline = Pipeline(stages=[labelIndexer, featureIndexer, svc])\n",
    "\n",
    "\n",
    "# build paramGrid\n",
    "paramGrid = ParamGridBuilder().build()\n",
    "\n",
    "crossval_lr = CrossValidator(estimator=pipeline,\n",
    "                          evaluator=evaluator, \n",
    "                          estimatorParamMaps=paramGrid,\n",
    "                          numFolds=5)\n",
    "\n",
    "# Train model.  This also runs the indexers.\n",
    "model = pipeline.fit(trainingData)\n",
    "\n",
    "# Make predictions.\n",
    "predictions = model.transform(testData)\n",
    "\n",
    "# Select example rows to display.\n",
    "predictions.select(\"prediction\", \"indexedLabel\", \"features\").show(5)\n",
    "\n",
    "# Select (prediction, true label) and compute test error\n",
    "evaluator = MulticlassClassificationEvaluator(\n",
    "    labelCol=\"indexedLabel\", predictionCol=\"prediction\", metricName=\"accuracy\")\n",
    "accuracy = evaluator.evaluate(predictions)\n",
    "F1_score = evaluator.evaluate(predictions, {evaluator.metricName: \"f1\"})\n",
    "print(\"Test Error = %g\" % (1.0 - accuracy))\n",
    "print(\"accuracy = %g \" % accuracy)\n",
    "print(\"F1 score = %g \" % F1_score)\n",
    "svm_model = model.stages[2]\n",
    "print(svm_model)  # summary only"
   ]
  },
  {
   "cell_type": "code",
   "execution_count": 56,
   "metadata": {},
   "outputs": [],
   "source": [
    "svm_list.append(accuracy)\n",
    "svm_list.append(1 - accuracy)\n",
    "svm_list.append(F1_score)"
   ]
  },
  {
   "cell_type": "code",
   "execution_count": 57,
   "metadata": {},
   "outputs": [],
   "source": [
    "clasification_algorithms['SVM'] = svm_list"
   ]
  },
  {
   "cell_type": "code",
   "execution_count": 58,
   "metadata": {},
   "outputs": [
    {
     "data": {
      "text/plain": [
       "{'randomForest': [0.7931034482758621, 0.2068965517241379, 0.7837203847056065],\n",
       " 'gradientBoostedTree': [0.7068965517241379,\n",
       "  0.2931034482758621,\n",
       "  0.7212845190308071],\n",
       " 'logisticRegression': [0.8103448275862069,\n",
       "  0.18965517241379315,\n",
       "  0.7408866995073891],\n",
       " 'SVM': [0.8275862068965517, 0.1724137931034483, 0.749512036434613]}"
      ]
     },
     "execution_count": 58,
     "metadata": {},
     "output_type": "execute_result"
    }
   ],
   "source": [
    "clasification_algorithms"
   ]
  },
  {
   "cell_type": "markdown",
   "metadata": {},
   "source": [
    "#### before veiwing all scores theoratically gradient boosted trees or random forest algorithms should work best since there are many features which are not linear."
   ]
  },
  {
   "cell_type": "markdown",
   "metadata": {},
   "source": [
    "### Scores"
   ]
  },
  {
   "cell_type": "code",
   "execution_count": 59,
   "metadata": {},
   "outputs": [],
   "source": [
    "scores_df = pd.DataFrame.from_dict(clasification_algorithms)\n",
    "scores_df = scores_df.T\n"
   ]
  },
  {
   "cell_type": "code",
   "execution_count": 60,
   "metadata": {},
   "outputs": [
    {
     "data": {
      "text/html": [
       "<div>\n",
       "<style scoped>\n",
       "    .dataframe tbody tr th:only-of-type {\n",
       "        vertical-align: middle;\n",
       "    }\n",
       "\n",
       "    .dataframe tbody tr th {\n",
       "        vertical-align: top;\n",
       "    }\n",
       "\n",
       "    .dataframe thead th {\n",
       "        text-align: right;\n",
       "    }\n",
       "</style>\n",
       "<table border=\"1\" class=\"dataframe\">\n",
       "  <thead>\n",
       "    <tr style=\"text-align: right;\">\n",
       "      <th></th>\n",
       "      <th>accuracy</th>\n",
       "      <th>error</th>\n",
       "      <th>F1_score</th>\n",
       "      <th>algorithms</th>\n",
       "    </tr>\n",
       "  </thead>\n",
       "  <tbody>\n",
       "    <tr>\n",
       "      <th>randomForest</th>\n",
       "      <td>0.793103</td>\n",
       "      <td>0.206897</td>\n",
       "      <td>0.783720</td>\n",
       "      <td>randomForest</td>\n",
       "    </tr>\n",
       "    <tr>\n",
       "      <th>gradientBoostedTree</th>\n",
       "      <td>0.706897</td>\n",
       "      <td>0.293103</td>\n",
       "      <td>0.721285</td>\n",
       "      <td>gradientBoostedTree</td>\n",
       "    </tr>\n",
       "    <tr>\n",
       "      <th>logisticRegression</th>\n",
       "      <td>0.810345</td>\n",
       "      <td>0.189655</td>\n",
       "      <td>0.740887</td>\n",
       "      <td>logisticRegression</td>\n",
       "    </tr>\n",
       "    <tr>\n",
       "      <th>SVM</th>\n",
       "      <td>0.827586</td>\n",
       "      <td>0.172414</td>\n",
       "      <td>0.749512</td>\n",
       "      <td>SVM</td>\n",
       "    </tr>\n",
       "  </tbody>\n",
       "</table>\n",
       "</div>"
      ],
      "text/plain": [
       "                     accuracy     error  F1_score           algorithms\n",
       "randomForest         0.793103  0.206897  0.783720         randomForest\n",
       "gradientBoostedTree  0.706897  0.293103  0.721285  gradientBoostedTree\n",
       "logisticRegression   0.810345  0.189655  0.740887   logisticRegression\n",
       "SVM                  0.827586  0.172414  0.749512                  SVM"
      ]
     },
     "execution_count": 60,
     "metadata": {},
     "output_type": "execute_result"
    }
   ],
   "source": [
    "scores_df = scores_df.rename(columns={0: \"accuracy\",1: \"error\" ,2:\"F1_score\"})\n",
    "scores_df['algorithms'] = scores_df.index\n",
    "scores_df"
   ]
  },
  {
   "cell_type": "code",
   "execution_count": 61,
   "metadata": {},
   "outputs": [
    {
     "data": {
      "text/html": [
       "<div>\n",
       "<style scoped>\n",
       "    .dataframe tbody tr th:only-of-type {\n",
       "        vertical-align: middle;\n",
       "    }\n",
       "\n",
       "    .dataframe tbody tr th {\n",
       "        vertical-align: top;\n",
       "    }\n",
       "\n",
       "    .dataframe thead th {\n",
       "        text-align: right;\n",
       "    }\n",
       "</style>\n",
       "<table border=\"1\" class=\"dataframe\">\n",
       "  <thead>\n",
       "    <tr style=\"text-align: right;\">\n",
       "      <th></th>\n",
       "      <th>Algorithms</th>\n",
       "      <th>Variable</th>\n",
       "      <th>Value</th>\n",
       "    </tr>\n",
       "  </thead>\n",
       "  <tbody>\n",
       "    <tr>\n",
       "      <th>0</th>\n",
       "      <td>randomForest</td>\n",
       "      <td>accuracy</td>\n",
       "      <td>0.793103</td>\n",
       "    </tr>\n",
       "    <tr>\n",
       "      <th>1</th>\n",
       "      <td>gradientBoostedTree</td>\n",
       "      <td>accuracy</td>\n",
       "      <td>0.706897</td>\n",
       "    </tr>\n",
       "    <tr>\n",
       "      <th>2</th>\n",
       "      <td>logisticRegression</td>\n",
       "      <td>accuracy</td>\n",
       "      <td>0.810345</td>\n",
       "    </tr>\n",
       "    <tr>\n",
       "      <th>3</th>\n",
       "      <td>SVM</td>\n",
       "      <td>accuracy</td>\n",
       "      <td>0.827586</td>\n",
       "    </tr>\n",
       "    <tr>\n",
       "      <th>4</th>\n",
       "      <td>randomForest</td>\n",
       "      <td>error</td>\n",
       "      <td>0.206897</td>\n",
       "    </tr>\n",
       "    <tr>\n",
       "      <th>5</th>\n",
       "      <td>gradientBoostedTree</td>\n",
       "      <td>error</td>\n",
       "      <td>0.293103</td>\n",
       "    </tr>\n",
       "    <tr>\n",
       "      <th>6</th>\n",
       "      <td>logisticRegression</td>\n",
       "      <td>error</td>\n",
       "      <td>0.189655</td>\n",
       "    </tr>\n",
       "    <tr>\n",
       "      <th>7</th>\n",
       "      <td>SVM</td>\n",
       "      <td>error</td>\n",
       "      <td>0.172414</td>\n",
       "    </tr>\n",
       "    <tr>\n",
       "      <th>8</th>\n",
       "      <td>randomForest</td>\n",
       "      <td>F1_score</td>\n",
       "      <td>0.783720</td>\n",
       "    </tr>\n",
       "    <tr>\n",
       "      <th>9</th>\n",
       "      <td>gradientBoostedTree</td>\n",
       "      <td>F1_score</td>\n",
       "      <td>0.721285</td>\n",
       "    </tr>\n",
       "    <tr>\n",
       "      <th>10</th>\n",
       "      <td>logisticRegression</td>\n",
       "      <td>F1_score</td>\n",
       "      <td>0.740887</td>\n",
       "    </tr>\n",
       "    <tr>\n",
       "      <th>11</th>\n",
       "      <td>SVM</td>\n",
       "      <td>F1_score</td>\n",
       "      <td>0.749512</td>\n",
       "    </tr>\n",
       "  </tbody>\n",
       "</table>\n",
       "</div>"
      ],
      "text/plain": [
       "             Algorithms  Variable     Value\n",
       "0          randomForest  accuracy  0.793103\n",
       "1   gradientBoostedTree  accuracy  0.706897\n",
       "2    logisticRegression  accuracy  0.810345\n",
       "3                   SVM  accuracy  0.827586\n",
       "4          randomForest     error  0.206897\n",
       "5   gradientBoostedTree     error  0.293103\n",
       "6    logisticRegression     error  0.189655\n",
       "7                   SVM     error  0.172414\n",
       "8          randomForest  F1_score  0.783720\n",
       "9   gradientBoostedTree  F1_score  0.721285\n",
       "10   logisticRegression  F1_score  0.740887\n",
       "11                  SVM  F1_score  0.749512"
      ]
     },
     "execution_count": 61,
     "metadata": {},
     "output_type": "execute_result"
    }
   ],
   "source": [
    "plottable_score_df = scores_df.melt(id_vars='algorithms').rename(columns=str.title)\n",
    "plottable_score_df"
   ]
  },
  {
   "cell_type": "code",
   "execution_count": 63,
   "metadata": {},
   "outputs": [
    {
     "data": {
      "image/png": "[encoded data removed]",
      "text/plain": [
       "<matplotlib.figure.Figure at 0x7fac9460e7b8>"
      ]
     },
     "metadata": {
      "needs_background": "light"
     },
     "output_type": "display_data"
    }
   ],
   "source": [
    "fig, ax1 = plt.subplots(figsize=(10, 6))\n",
    "sns.barplot(x='Value', y='Algorithms', hue='Variable', data=plottable_score_df, ax=ax1)\n",
    "sns.despine(fig)"
   ]
  },
  {
   "cell_type": "markdown",
   "metadata": {},
   "source": [
    "### performing grid search for the best algorithm:"
   ]
  },
  {
   "cell_type": "code",
   "execution_count": 64,
   "metadata": {},
   "outputs": [
    {
     "name": "stdout",
     "output_type": "stream",
     "text": [
      "Test Error = 0.155172\n",
      "accuracy = 0.844828 \n",
      "F1 score = 0.808323 \n",
      "RandomForestClassificationModel (uid=RandomForestClassifier_a59dc250ceb3) with 20 trees\n"
     ]
    }
   ],
   "source": [
    "# Index labels, adding metadata to the label column.\n",
    "# Fit on whole dataset to include all labels in index.\n",
    "labelIndexer = StringIndexer(inputCol=\"label\", outputCol=\"indexedLabel\").fit(data)\n",
    "\n",
    "# Automatically identify categorical features, and index them.\n",
    "# Set maxCategories so features with > 4 distinct values are treated as continuous.\n",
    "featureIndexer =\\\n",
    "    VectorIndexer(inputCol=\"features\", outputCol=\"indexedFeatures\", maxCategories=2).fit(data)\n",
    "\n",
    "\n",
    "\n",
    "\n",
    "# Train a RandomForest model.\n",
    "rf = RandomForestClassifier(labelCol=\"indexedLabel\", featuresCol=\"indexedFeatures\")\n",
    "\n",
    "# Convert indexed labels back to original labels.\n",
    "labelConverter = IndexToString(inputCol=\"prediction\", outputCol=\"predictedLabel\",\n",
    "                               labels=labelIndexer.labels)\n",
    "\n",
    "# Chain indexers and forest in a Pipeline\n",
    "pipeline = Pipeline(stages=[labelIndexer, featureIndexer, rf, labelConverter])\n",
    "\n",
    "\n",
    "# Select (prediction, true label) and compute test error\n",
    "evaluator = MulticlassClassificationEvaluator(\n",
    "    labelCol=\"indexedLabel\", predictionCol=\"prediction\", metricName=\"accuracy\")\n",
    "# build paramGrid\n",
    "paramGrid = ParamGridBuilder().addGrid(rf.numTrees, [10, 30]).build()\n",
    "\n",
    "\n",
    "crossval_lr = CrossValidator(estimator=pipeline,\n",
    "                          evaluator=evaluator, \n",
    "                          estimatorParamMaps=paramGrid,\n",
    "                          numFolds=5)\n",
    "\n",
    "# Train model.  This also runs the indexers.\n",
    "model = pipeline.fit(trainingData)\n",
    "\n",
    "# Make predictions.\n",
    "predictions = model.transform(testData)\n",
    "\n",
    "\n",
    "\n",
    "accuracy = evaluator.evaluate(predictions)\n",
    "F1_score = evaluator.evaluate(predictions, {evaluator.metricName: \"f1\"})\n",
    "print(\"Test Error = %g\" % (1.0 - accuracy))\n",
    "print(\"accuracy = %g \" % accuracy)\n",
    "print(\"F1 score = %g \" % F1_score)\n",
    "rfModel = model.stages[2]\n",
    "print(rfModel)  # summary only\n"
   ]
  },
  {
   "cell_type": "markdown",
   "metadata": {},
   "source": [
    "#### reflection: as expected random forest classifier performs greatly with grid search beating all other algorithms in terms of f1 score and \n",
    "\n",
    "- note : gradient boosted tree would be really simmilar to random forest as both of them are based on decision trees "
   ]
  },
  {
   "cell_type": "code",
   "execution_count": 67,
   "metadata": {},
   "outputs": [
    {
     "data": {
      "text/plain": [
       "array([ 0.21604004,  0.18524336,  0.04967978,  0.08015908,  0.22283131,\n",
       "        0.24604643])"
      ]
     },
     "execution_count": 67,
     "metadata": {},
     "output_type": "execute_result"
    }
   ],
   "source": [
    "rfModel.featureImportances.values"
   ]
  },
  {
   "cell_type": "code",
   "execution_count": null,
   "metadata": {},
   "outputs": [],
   "source": [
    "# |nextSongs|addToPlaylist|Error|NextSong|thumbsDowns|thumbsUps|\n",
    "#it seems that the most important features are the features correlated with the \n",
    "# quality of the content like the number of songs listened to ,\n",
    "#the number of songs added to the playlist up values"
   ]
  },
  {
   "cell_type": "markdown",
   "metadata": {},
   "source": [
    "#### to further enhance this analysis:\n",
    "we could add categorical values like the type of os which could impact the quality of the content differentiating from one os to another.\n",
    "#### making ab tests:\n",
    "From here i believe machine learning models helped us in predicting so we could make a cookie based ab test , the key difference between both groups are the type of songs they would be listening to in addition to the reccomendations they are provided."
   ]
  },
  {
   "cell_type": "markdown",
   "metadata": {},
   "source": [
    "# Final Steps\n",
    "Clean up your code, adding comments and renaming variables to make the code easier to read and maintain. Refer to the Spark Project Overview page and Data Scientist Capstone Project Rubric to make sure you are including all components of the capstone project and meet all expectations. Remember, this includes thorough documentation in a README file in a Github repository, as well as a web app or blog post."
   ]
  }
 ],
 "metadata": {
  "kernelspec": {
   "display_name": "Python 3",
   "language": "python",
   "name": "python3"
  },
  "language_info": {
   "codemirror_mode": {
    "name": "ipython",
    "version": 3
   },
   "file_extension": ".py",
   "mimetype": "text/x-python",
   "name": "python",
   "nbconvert_exporter": "python",
   "pygments_lexer": "ipython3",
   "version": "3.6.3"
  }
 },
 "nbformat": 4,
 "nbformat_minor": 2
}
